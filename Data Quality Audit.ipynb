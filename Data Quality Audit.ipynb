{
 "cells": [
  {
   "cell_type": "markdown",
   "id": "9908cbef-16c5-4388-892f-cc706d6b23fc",
   "metadata": {},
   "source": [
    "## Goals:\n",
    "- Data Uniqueness Check\n",
    "- Data Completeness Check\n",
    "- Data Validity Check\n",
    "- Data Consistency Check\n",
    "- Data Timeliness Check\n",
    "- Data Preparation"
   ]
  },
  {
   "cell_type": "code",
   "execution_count": 17,
   "id": "702b1f17-8cca-4165-8121-bdea91abcb80",
   "metadata": {},
   "outputs": [],
   "source": [
    "import pandas as pd\n",
    "import sqlite3"
   ]
  },
  {
   "cell_type": "code",
   "execution_count": 23,
   "id": "a18f5495-52e6-446a-af1f-4f22b4766883",
   "metadata": {},
   "outputs": [],
   "source": [
    "# Create a connection to the SQLite database\n",
    "conn=sqlite3.connect(\"data/bootcamp_db\")"
   ]
  },
  {
   "cell_type": "code",
   "execution_count": 33,
   "id": "b63376cd-7d9a-4c0c-b84d-eba54ebfb9e5",
   "metadata": {},
   "outputs": [
    {
     "data": {
      "text/plain": [
       "<sqlite3.Connection at 0x1b748d8f6a0>"
      ]
     },
     "execution_count": 33,
     "metadata": {},
     "output_type": "execute_result"
    }
   ],
   "source": [
    "# Check the connection\n",
    "conn"
   ]
  },
  {
   "cell_type": "code",
   "execution_count": 35,
   "id": "44ee1157-017c-4d2d-a488-6be79aa2082e",
   "metadata": {},
   "outputs": [
    {
     "name": "stdout",
     "output_type": "stream",
     "text": [
      "List of tables in the database:\n",
      "[('online_transactions',), ('stock_description',)]\n"
     ]
    }
   ],
   "source": [
    "# Write a query to read all tables from the database\n",
    "sql_query = \"\"\"SELECT name \n",
    "               FROM sqlite_master \n",
    "               WHERE type='table';\"\"\"\n",
    "\n",
    "cursor = conn.cursor()\n",
    "\n",
    "# Executing our sql query\n",
    "cursor.execute(sql_query)\n",
    "\n",
    "# Printing all tables list\n",
    "print(f\"List of tables in the database:\\n{cursor.fetchall()}\")"
   ]
  },
  {
   "cell_type": "code",
   "execution_count": 37,
   "id": "189c219a-a444-4087-a16b-eb8f86859797",
   "metadata": {},
   "outputs": [],
   "source": [
    "# Write a query that reads all the rows from online transactions table \n",
    "query=\"\"\"\n",
    "select *\n",
    "from online_transactions\n",
    "\"\"\"\n",
    "\n",
    "# Read from the database into a Pandas DataFrame\n",
    "online_transactions=pd.read_sql(query,conn)"
   ]
  },
  {
   "cell_type": "code",
   "execution_count": 38,
   "id": "991d01fe-37ee-40b1-84ed-fa86d4aa63ec",
   "metadata": {},
   "outputs": [
    {
     "data": {
      "text/html": [
       "<div>\n",
       "<style scoped>\n",
       "    .dataframe tbody tr th:only-of-type {\n",
       "        vertical-align: middle;\n",
       "    }\n",
       "\n",
       "    .dataframe tbody tr th {\n",
       "        vertical-align: top;\n",
       "    }\n",
       "\n",
       "    .dataframe thead th {\n",
       "        text-align: right;\n",
       "    }\n",
       "</style>\n",
       "<table border=\"1\" class=\"dataframe\">\n",
       "  <thead>\n",
       "    <tr style=\"text-align: right;\">\n",
       "      <th></th>\n",
       "      <th>invoice</th>\n",
       "      <th>stock_code</th>\n",
       "      <th>quantity</th>\n",
       "      <th>invoice_date</th>\n",
       "      <th>price</th>\n",
       "      <th>customer_id</th>\n",
       "      <th>country</th>\n",
       "    </tr>\n",
       "  </thead>\n",
       "  <tbody>\n",
       "    <tr>\n",
       "      <th>0</th>\n",
       "      <td>536370</td>\n",
       "      <td>21791</td>\n",
       "      <td>24</td>\n",
       "      <td>2010-12-01 08:45:00</td>\n",
       "      <td>1.25</td>\n",
       "      <td>u12583</td>\n",
       "      <td>France</td>\n",
       "    </tr>\n",
       "    <tr>\n",
       "      <th>1</th>\n",
       "      <td>536373</td>\n",
       "      <td>82494L</td>\n",
       "      <td>6</td>\n",
       "      <td>2010-12-01 09:02:00</td>\n",
       "      <td>2.55</td>\n",
       "      <td>u1785</td>\n",
       "      <td>United Kingdom</td>\n",
       "    </tr>\n",
       "    <tr>\n",
       "      <th>2</th>\n",
       "      <td>536378</td>\n",
       "      <td>21929</td>\n",
       "      <td>10</td>\n",
       "      <td>2010-12-01 09:37:00</td>\n",
       "      <td>1.95</td>\n",
       "      <td>u14688</td>\n",
       "      <td>United Kingdom</td>\n",
       "    </tr>\n",
       "    <tr>\n",
       "      <th>3</th>\n",
       "      <td>536381</td>\n",
       "      <td>37444A</td>\n",
       "      <td>1</td>\n",
       "      <td>2010-12-01 09:41:00</td>\n",
       "      <td>2.95</td>\n",
       "      <td>u15311</td>\n",
       "      <td>United Kingdom</td>\n",
       "    </tr>\n",
       "    <tr>\n",
       "      <th>4</th>\n",
       "      <td>536381</td>\n",
       "      <td>15056BL</td>\n",
       "      <td>2</td>\n",
       "      <td>2010-12-01 09:41:00</td>\n",
       "      <td>5.95</td>\n",
       "      <td>u15311</td>\n",
       "      <td>United Kingdom</td>\n",
       "    </tr>\n",
       "  </tbody>\n",
       "</table>\n",
       "</div>"
      ],
      "text/plain": [
       "  invoice stock_code  quantity         invoice_date  price customer_id  \\\n",
       "0  536370      21791        24  2010-12-01 08:45:00   1.25      u12583   \n",
       "1  536373     82494L         6  2010-12-01 09:02:00   2.55       u1785   \n",
       "2  536378      21929        10  2010-12-01 09:37:00   1.95      u14688   \n",
       "3  536381     37444A         1  2010-12-01 09:41:00   2.95      u15311   \n",
       "4  536381    15056BL         2  2010-12-01 09:41:00   5.95      u15311   \n",
       "\n",
       "          country  \n",
       "0          France  \n",
       "1  United Kingdom  \n",
       "2  United Kingdom  \n",
       "3  United Kingdom  \n",
       "4  United Kingdom  "
      ]
     },
     "execution_count": 38,
     "metadata": {},
     "output_type": "execute_result"
    }
   ],
   "source": [
    "# Check the result\n",
    "online_transactions.head()"
   ]
  },
  {
   "cell_type": "code",
   "execution_count": 41,
   "id": "4b9b8d9c-7ea5-469c-9c3d-fb43b3fff495",
   "metadata": {},
   "outputs": [],
   "source": [
    "# Write a query that reads all the rows from the stock description table \n",
    "query=\"\"\"\n",
    "select *\n",
    "from stock_description\n",
    "\"\"\"\n",
    "\n",
    "# Read from the database into a Pandas DataFrame\n",
    "stock_description=pd.read_sql(query,conn)"
   ]
  },
  {
   "cell_type": "code",
   "execution_count": 43,
   "id": "b66bdb2d-3fe7-4d41-a2b5-089fd694d5f7",
   "metadata": {},
   "outputs": [
    {
     "data": {
      "text/html": [
       "<div>\n",
       "<style scoped>\n",
       "    .dataframe tbody tr th:only-of-type {\n",
       "        vertical-align: middle;\n",
       "    }\n",
       "\n",
       "    .dataframe tbody tr th {\n",
       "        vertical-align: top;\n",
       "    }\n",
       "\n",
       "    .dataframe thead th {\n",
       "        text-align: right;\n",
       "    }\n",
       "</style>\n",
       "<table border=\"1\" class=\"dataframe\">\n",
       "  <thead>\n",
       "    <tr style=\"text-align: right;\">\n",
       "      <th></th>\n",
       "      <th>stock_code</th>\n",
       "      <th>description</th>\n",
       "    </tr>\n",
       "  </thead>\n",
       "  <tbody>\n",
       "    <tr>\n",
       "      <th>0</th>\n",
       "      <td>10002</td>\n",
       "      <td>INFLATABLE POLITICAL GLOBE</td>\n",
       "    </tr>\n",
       "    <tr>\n",
       "      <th>1</th>\n",
       "      <td>10080</td>\n",
       "      <td>GROOVY CACTUS INFLATABLE</td>\n",
       "    </tr>\n",
       "    <tr>\n",
       "      <th>2</th>\n",
       "      <td>10120</td>\n",
       "      <td>DOGGY RUBBER</td>\n",
       "    </tr>\n",
       "    <tr>\n",
       "      <th>3</th>\n",
       "      <td>10123C</td>\n",
       "      <td>HEARTS WRAPPING TAPE</td>\n",
       "    </tr>\n",
       "    <tr>\n",
       "      <th>4</th>\n",
       "      <td>10124A</td>\n",
       "      <td>SPOTS ON RED BOOKCOVER TAPE</td>\n",
       "    </tr>\n",
       "  </tbody>\n",
       "</table>\n",
       "</div>"
      ],
      "text/plain": [
       "  stock_code                  description\n",
       "0      10002  INFLATABLE POLITICAL GLOBE \n",
       "1      10080     GROOVY CACTUS INFLATABLE\n",
       "2      10120                 DOGGY RUBBER\n",
       "3     10123C        HEARTS WRAPPING TAPE \n",
       "4     10124A  SPOTS ON RED BOOKCOVER TAPE"
      ]
     },
     "execution_count": 43,
     "metadata": {},
     "output_type": "execute_result"
    }
   ],
   "source": [
    "# Check the result\n",
    "stock_description.head()"
   ]
  },
  {
   "cell_type": "markdown",
   "id": "86bdd939-07f1-420e-8338-923d7e860f84",
   "metadata": {},
   "source": [
    "## 1. Data Uniqueness Check(Duplicates)"
   ]
  },
  {
   "cell_type": "code",
   "execution_count": 45,
   "id": "55c871d4-0923-44bb-bccf-7a5526e170a8",
   "metadata": {},
   "outputs": [
    {
     "data": {
      "text/html": [
       "<div>\n",
       "<style scoped>\n",
       "    .dataframe tbody tr th:only-of-type {\n",
       "        vertical-align: middle;\n",
       "    }\n",
       "\n",
       "    .dataframe tbody tr th {\n",
       "        vertical-align: top;\n",
       "    }\n",
       "\n",
       "    .dataframe thead th {\n",
       "        text-align: right;\n",
       "    }\n",
       "</style>\n",
       "<table border=\"1\" class=\"dataframe\">\n",
       "  <thead>\n",
       "    <tr style=\"text-align: right;\">\n",
       "      <th></th>\n",
       "      <th>invoice</th>\n",
       "      <th>stock_code</th>\n",
       "      <th>quantity</th>\n",
       "      <th>invoice_date</th>\n",
       "      <th>price</th>\n",
       "      <th>customer_id</th>\n",
       "      <th>country</th>\n",
       "    </tr>\n",
       "  </thead>\n",
       "  <tbody>\n",
       "    <tr>\n",
       "      <th>30</th>\n",
       "      <td>536412</td>\n",
       "      <td>22273</td>\n",
       "      <td>1</td>\n",
       "      <td>2010-12-01 11:49:00</td>\n",
       "      <td>2.95</td>\n",
       "      <td>u1792</td>\n",
       "      <td>United Kingdom</td>\n",
       "    </tr>\n",
       "    <tr>\n",
       "      <th>70</th>\n",
       "      <td>536528</td>\n",
       "      <td>22744</td>\n",
       "      <td>2</td>\n",
       "      <td>2010-12-01 13:17:00</td>\n",
       "      <td>2.95</td>\n",
       "      <td>u15525</td>\n",
       "      <td>United Kingdom</td>\n",
       "    </tr>\n",
       "    <tr>\n",
       "      <th>111</th>\n",
       "      <td>536412</td>\n",
       "      <td>21706</td>\n",
       "      <td>1</td>\n",
       "      <td>2010-12-01 11:49:00</td>\n",
       "      <td>4.95</td>\n",
       "      <td>u1792</td>\n",
       "      <td>United Kingdom</td>\n",
       "    </tr>\n",
       "    <tr>\n",
       "      <th>133</th>\n",
       "      <td>536522</td>\n",
       "      <td>21121</td>\n",
       "      <td>1</td>\n",
       "      <td>2010-12-01 12:49:00</td>\n",
       "      <td>1.25</td>\n",
       "      <td>u15012</td>\n",
       "      <td>United Kingdom</td>\n",
       "    </tr>\n",
       "    <tr>\n",
       "      <th>139</th>\n",
       "      <td>536528</td>\n",
       "      <td>22839</td>\n",
       "      <td>1</td>\n",
       "      <td>2010-12-01 13:17:00</td>\n",
       "      <td>14.95</td>\n",
       "      <td>u15525</td>\n",
       "      <td>United Kingdom</td>\n",
       "    </tr>\n",
       "    <tr>\n",
       "      <th>...</th>\n",
       "      <td>...</td>\n",
       "      <td>...</td>\n",
       "      <td>...</td>\n",
       "      <td>...</td>\n",
       "      <td>...</td>\n",
       "      <td>...</td>\n",
       "      <td>...</td>\n",
       "    </tr>\n",
       "    <tr>\n",
       "      <th>541644</th>\n",
       "      <td>581352</td>\n",
       "      <td>82494L</td>\n",
       "      <td>1</td>\n",
       "      <td>2011-12-08 12:26:00</td>\n",
       "      <td>2.95</td>\n",
       "      <td>u14698</td>\n",
       "      <td>United Kingdom</td>\n",
       "    </tr>\n",
       "    <tr>\n",
       "      <th>541669</th>\n",
       "      <td>581404</td>\n",
       "      <td>22469</td>\n",
       "      <td>2</td>\n",
       "      <td>2011-12-08 13:47:00</td>\n",
       "      <td>1.65</td>\n",
       "      <td>u1368</td>\n",
       "      <td>United Kingdom</td>\n",
       "    </tr>\n",
       "    <tr>\n",
       "      <th>541888</th>\n",
       "      <td>581538</td>\n",
       "      <td>22068</td>\n",
       "      <td>1</td>\n",
       "      <td>2011-12-09 11:34:00</td>\n",
       "      <td>0.39</td>\n",
       "      <td>u14446</td>\n",
       "      <td>United Kingdom</td>\n",
       "    </tr>\n",
       "    <tr>\n",
       "      <th>541890</th>\n",
       "      <td>581538</td>\n",
       "      <td>23275</td>\n",
       "      <td>1</td>\n",
       "      <td>2011-12-09 11:34:00</td>\n",
       "      <td>1.25</td>\n",
       "      <td>u14446</td>\n",
       "      <td>United Kingdom</td>\n",
       "    </tr>\n",
       "    <tr>\n",
       "      <th>541891</th>\n",
       "      <td>581538</td>\n",
       "      <td>22068</td>\n",
       "      <td>1</td>\n",
       "      <td>2011-12-09 11:34:00</td>\n",
       "      <td>0.39</td>\n",
       "      <td>u14446</td>\n",
       "      <td>United Kingdom</td>\n",
       "    </tr>\n",
       "  </tbody>\n",
       "</table>\n",
       "<p>10151 rows × 7 columns</p>\n",
       "</div>"
      ],
      "text/plain": [
       "       invoice stock_code  quantity         invoice_date  price customer_id  \\\n",
       "30      536412      22273         1  2010-12-01 11:49:00   2.95       u1792   \n",
       "70      536528      22744         2  2010-12-01 13:17:00   2.95      u15525   \n",
       "111     536412      21706         1  2010-12-01 11:49:00   4.95       u1792   \n",
       "133     536522      21121         1  2010-12-01 12:49:00   1.25      u15012   \n",
       "139     536528      22839         1  2010-12-01 13:17:00  14.95      u15525   \n",
       "...        ...        ...       ...                  ...    ...         ...   \n",
       "541644  581352     82494L         1  2011-12-08 12:26:00   2.95      u14698   \n",
       "541669  581404      22469         2  2011-12-08 13:47:00   1.65       u1368   \n",
       "541888  581538      22068         1  2011-12-09 11:34:00   0.39      u14446   \n",
       "541890  581538      23275         1  2011-12-09 11:34:00   1.25      u14446   \n",
       "541891  581538      22068         1  2011-12-09 11:34:00   0.39      u14446   \n",
       "\n",
       "               country  \n",
       "30      United Kingdom  \n",
       "70      United Kingdom  \n",
       "111     United Kingdom  \n",
       "133     United Kingdom  \n",
       "139     United Kingdom  \n",
       "...                ...  \n",
       "541644  United Kingdom  \n",
       "541669  United Kingdom  \n",
       "541888  United Kingdom  \n",
       "541890  United Kingdom  \n",
       "541891  United Kingdom  \n",
       "\n",
       "[10151 rows x 7 columns]"
      ]
     },
     "execution_count": 45,
     "metadata": {},
     "output_type": "execute_result"
    }
   ],
   "source": [
    "# Identify duplicated rows of data\n",
    "online_transactions[online_transactions.duplicated(keep=False)]"
   ]
  },
  {
   "cell_type": "code",
   "execution_count": 47,
   "id": "491de485-0b88-4da4-b520-8300d28eb745",
   "metadata": {
    "scrolled": true
   },
   "outputs": [
    {
     "data": {
      "text/plain": [
       "5270"
      ]
     },
     "execution_count": 47,
     "metadata": {},
     "output_type": "execute_result"
    }
   ],
   "source": [
    "# Number of duplicated rows -- this count does not include the first occurance of the row of data\n",
    "online_transactions.duplicated().sum()"
   ]
  },
  {
   "cell_type": "code",
   "execution_count": 49,
   "id": "a3d63cca-ef68-49e9-a087-4ee35d100055",
   "metadata": {},
   "outputs": [
    {
     "data": {
      "text/html": [
       "<div>\n",
       "<style scoped>\n",
       "    .dataframe tbody tr th:only-of-type {\n",
       "        vertical-align: middle;\n",
       "    }\n",
       "\n",
       "    .dataframe tbody tr th {\n",
       "        vertical-align: top;\n",
       "    }\n",
       "\n",
       "    .dataframe thead th {\n",
       "        text-align: right;\n",
       "    }\n",
       "</style>\n",
       "<table border=\"1\" class=\"dataframe\">\n",
       "  <thead>\n",
       "    <tr style=\"text-align: right;\">\n",
       "      <th></th>\n",
       "      <th>invoice</th>\n",
       "      <th>stock_code</th>\n",
       "      <th>quantity</th>\n",
       "      <th>invoice_date</th>\n",
       "      <th>price</th>\n",
       "      <th>customer_id</th>\n",
       "      <th>country</th>\n",
       "    </tr>\n",
       "  </thead>\n",
       "  <tbody>\n",
       "    <tr>\n",
       "      <th>30</th>\n",
       "      <td>536412</td>\n",
       "      <td>22273</td>\n",
       "      <td>1</td>\n",
       "      <td>2010-12-01 11:49:00</td>\n",
       "      <td>2.95</td>\n",
       "      <td>u1792</td>\n",
       "      <td>United Kingdom</td>\n",
       "    </tr>\n",
       "    <tr>\n",
       "      <th>33</th>\n",
       "      <td>536412</td>\n",
       "      <td>22273</td>\n",
       "      <td>2</td>\n",
       "      <td>2010-12-01 11:49:00</td>\n",
       "      <td>2.95</td>\n",
       "      <td>u1792</td>\n",
       "      <td>United Kingdom</td>\n",
       "    </tr>\n",
       "    <tr>\n",
       "      <th>9624</th>\n",
       "      <td>536412</td>\n",
       "      <td>22273</td>\n",
       "      <td>1</td>\n",
       "      <td>2010-12-01 11:49:00</td>\n",
       "      <td>2.95</td>\n",
       "      <td>u1792</td>\n",
       "      <td>United Kingdom</td>\n",
       "    </tr>\n",
       "  </tbody>\n",
       "</table>\n",
       "</div>"
      ],
      "text/plain": [
       "     invoice stock_code  quantity         invoice_date  price customer_id  \\\n",
       "30    536412      22273         1  2010-12-01 11:49:00   2.95       u1792   \n",
       "33    536412      22273         2  2010-12-01 11:49:00   2.95       u1792   \n",
       "9624  536412      22273         1  2010-12-01 11:49:00   2.95       u1792   \n",
       "\n",
       "             country  \n",
       "30    United Kingdom  \n",
       "33    United Kingdom  \n",
       "9624  United Kingdom  "
      ]
     },
     "execution_count": 49,
     "metadata": {},
     "output_type": "execute_result"
    }
   ],
   "source": [
    "# An example of duplicated data\n",
    "# Both rows are identical\n",
    "online_transactions[(online_transactions.invoice==\"536412\") & (online_transactions.stock_code==\"22273\")]"
   ]
  },
  {
   "cell_type": "code",
   "execution_count": 57,
   "id": "fdd31989-5e02-4331-bd59-a774c764ef09",
   "metadata": {},
   "outputs": [
    {
     "data": {
      "text/plain": [
       "0"
      ]
     },
     "execution_count": 57,
     "metadata": {},
     "output_type": "execute_result"
    }
   ],
   "source": [
    "# Check the duplicates in stock_description DataFrame\n",
    "stock_description[stock_description.duplicated()].shape[0]"
   ]
  },
  {
   "cell_type": "markdown",
   "id": "e865a00b-d6be-456a-885f-eefe2955a370",
   "metadata": {},
   "source": [
    "## 2. Data Completeness Check（Missing Values）"
   ]
  },
  {
   "cell_type": "markdown",
   "id": "784be10d-cbd9-450c-909f-9819b7407717",
   "metadata": {},
   "source": [
    "### 2.1 Null values"
   ]
  },
  {
   "cell_type": "code",
   "execution_count": 60,
   "id": "3006aa61-3bf3-4f3e-b4db-54051dd6e5b5",
   "metadata": {},
   "outputs": [
    {
     "data": {
      "text/plain": [
       "invoice         0\n",
       "stock_code      0\n",
       "quantity        0\n",
       "invoice_date    0\n",
       "price           0\n",
       "customer_id     0\n",
       "country         0\n",
       "dtype: int64"
      ]
     },
     "execution_count": 60,
     "metadata": {},
     "output_type": "execute_result"
    }
   ],
   "source": [
    "# Check for missing values in online transactions\n",
    "online_transactions.isnull().sum()"
   ]
  },
  {
   "cell_type": "code",
   "execution_count": 62,
   "id": "3c54df2c-c498-47e3-aaad-dcd9368b0493",
   "metadata": {},
   "outputs": [
    {
     "data": {
      "text/plain": [
       "stock_code     0\n",
       "description    0\n",
       "dtype: int64"
      ]
     },
     "execution_count": 62,
     "metadata": {},
     "output_type": "execute_result"
    }
   ],
   "source": [
    "# Check for missing values in stock description\n",
    "stock_description.isnull().sum()"
   ]
  },
  {
   "cell_type": "markdown",
   "id": "98a3f9d4-e78d-4942-9315-5fd0342abc8e",
   "metadata": {},
   "source": [
    "### 2.2 Empty string"
   ]
  },
  {
   "cell_type": "code",
   "execution_count": 73,
   "id": "2c613aaa-c1c5-4464-85e2-a70131b8822f",
   "metadata": {},
   "outputs": [],
   "source": [
    "# Find all empty strings from online_transactions \n",
    "empty_string_ot=(online_transactions=='')"
   ]
  },
  {
   "cell_type": "code",
   "execution_count": 75,
   "id": "6d3a9b8c-f48e-43b2-9907-8aecaed996a5",
   "metadata": {},
   "outputs": [],
   "source": [
    "# Count empty strings in each column\n",
    "empty_string_ot_count=empty_string_ot.sum()"
   ]
  },
  {
   "cell_type": "code",
   "execution_count": 85,
   "id": "1134766b-56cf-44ef-bf67-f890b8e52395",
   "metadata": {},
   "outputs": [
    {
     "data": {
      "text/plain": [
       "invoice              0\n",
       "stock_code           0\n",
       "quantity             0\n",
       "invoice_date         0\n",
       "price                0\n",
       "customer_id     135080\n",
       "country              0\n",
       "dtype: int64"
      ]
     },
     "execution_count": 85,
     "metadata": {},
     "output_type": "execute_result"
    }
   ],
   "source": [
    "# Check the result\n",
    "empty_string_ot_count"
   ]
  },
  {
   "cell_type": "code",
   "execution_count": 87,
   "id": "79a578b0-7f54-4843-b6ef-07de409db621",
   "metadata": {},
   "outputs": [
    {
     "data": {
      "text/html": [
       "<div>\n",
       "<style scoped>\n",
       "    .dataframe tbody tr th:only-of-type {\n",
       "        vertical-align: middle;\n",
       "    }\n",
       "\n",
       "    .dataframe tbody tr th {\n",
       "        vertical-align: top;\n",
       "    }\n",
       "\n",
       "    .dataframe thead th {\n",
       "        text-align: right;\n",
       "    }\n",
       "</style>\n",
       "<table border=\"1\" class=\"dataframe\">\n",
       "  <thead>\n",
       "    <tr style=\"text-align: right;\">\n",
       "      <th></th>\n",
       "      <th>invoice</th>\n",
       "      <th>stock_code</th>\n",
       "      <th>quantity</th>\n",
       "      <th>invoice_date</th>\n",
       "      <th>price</th>\n",
       "      <th>customer_id</th>\n",
       "      <th>country</th>\n",
       "    </tr>\n",
       "  </thead>\n",
       "  <tbody>\n",
       "    <tr>\n",
       "      <th>157</th>\n",
       "      <td>536544</td>\n",
       "      <td>21809</td>\n",
       "      <td>1</td>\n",
       "      <td>2010-12-01 14:32:00</td>\n",
       "      <td>2.51</td>\n",
       "      <td></td>\n",
       "      <td>United Kingdom</td>\n",
       "    </tr>\n",
       "    <tr>\n",
       "      <th>158</th>\n",
       "      <td>536544</td>\n",
       "      <td>21991</td>\n",
       "      <td>1</td>\n",
       "      <td>2010-12-01 14:32:00</td>\n",
       "      <td>2.51</td>\n",
       "      <td></td>\n",
       "      <td>United Kingdom</td>\n",
       "    </tr>\n",
       "    <tr>\n",
       "      <th>159</th>\n",
       "      <td>536544</td>\n",
       "      <td>22076</td>\n",
       "      <td>1</td>\n",
       "      <td>2010-12-01 14:32:00</td>\n",
       "      <td>3.36</td>\n",
       "      <td></td>\n",
       "      <td>United Kingdom</td>\n",
       "    </tr>\n",
       "    <tr>\n",
       "      <th>160</th>\n",
       "      <td>536544</td>\n",
       "      <td>22135</td>\n",
       "      <td>5</td>\n",
       "      <td>2010-12-01 14:32:00</td>\n",
       "      <td>0.85</td>\n",
       "      <td></td>\n",
       "      <td>United Kingdom</td>\n",
       "    </tr>\n",
       "    <tr>\n",
       "      <th>161</th>\n",
       "      <td>536544</td>\n",
       "      <td>22190</td>\n",
       "      <td>3</td>\n",
       "      <td>2010-12-01 14:32:00</td>\n",
       "      <td>2.51</td>\n",
       "      <td></td>\n",
       "      <td>United Kingdom</td>\n",
       "    </tr>\n",
       "    <tr>\n",
       "      <th>...</th>\n",
       "      <td>...</td>\n",
       "      <td>...</td>\n",
       "      <td>...</td>\n",
       "      <td>...</td>\n",
       "      <td>...</td>\n",
       "      <td>...</td>\n",
       "      <td>...</td>\n",
       "    </tr>\n",
       "    <tr>\n",
       "      <th>541876</th>\n",
       "      <td>581498</td>\n",
       "      <td>22557</td>\n",
       "      <td>1</td>\n",
       "      <td>2011-12-09 10:26:00</td>\n",
       "      <td>3.29</td>\n",
       "      <td></td>\n",
       "      <td>United Kingdom</td>\n",
       "    </tr>\n",
       "    <tr>\n",
       "      <th>541877</th>\n",
       "      <td>581498</td>\n",
       "      <td>22993</td>\n",
       "      <td>2</td>\n",
       "      <td>2011-12-09 10:26:00</td>\n",
       "      <td>3.29</td>\n",
       "      <td></td>\n",
       "      <td>United Kingdom</td>\n",
       "    </tr>\n",
       "    <tr>\n",
       "      <th>541878</th>\n",
       "      <td>581498</td>\n",
       "      <td>23300</td>\n",
       "      <td>9</td>\n",
       "      <td>2011-12-09 10:26:00</td>\n",
       "      <td>3.29</td>\n",
       "      <td></td>\n",
       "      <td>United Kingdom</td>\n",
       "    </tr>\n",
       "    <tr>\n",
       "      <th>541879</th>\n",
       "      <td>581498</td>\n",
       "      <td>23480</td>\n",
       "      <td>1</td>\n",
       "      <td>2011-12-09 10:26:00</td>\n",
       "      <td>7.46</td>\n",
       "      <td></td>\n",
       "      <td>United Kingdom</td>\n",
       "    </tr>\n",
       "    <tr>\n",
       "      <th>541880</th>\n",
       "      <td>581498</td>\n",
       "      <td>71053</td>\n",
       "      <td>1</td>\n",
       "      <td>2011-12-09 10:26:00</td>\n",
       "      <td>8.29</td>\n",
       "      <td></td>\n",
       "      <td>United Kingdom</td>\n",
       "    </tr>\n",
       "  </tbody>\n",
       "</table>\n",
       "<p>135080 rows × 7 columns</p>\n",
       "</div>"
      ],
      "text/plain": [
       "       invoice stock_code  quantity         invoice_date  price customer_id  \\\n",
       "157     536544      21809         1  2010-12-01 14:32:00   2.51               \n",
       "158     536544      21991         1  2010-12-01 14:32:00   2.51               \n",
       "159     536544      22076         1  2010-12-01 14:32:00   3.36               \n",
       "160     536544      22135         5  2010-12-01 14:32:00   0.85               \n",
       "161     536544      22190         3  2010-12-01 14:32:00   2.51               \n",
       "...        ...        ...       ...                  ...    ...         ...   \n",
       "541876  581498      22557         1  2011-12-09 10:26:00   3.29               \n",
       "541877  581498      22993         2  2011-12-09 10:26:00   3.29               \n",
       "541878  581498      23300         9  2011-12-09 10:26:00   3.29               \n",
       "541879  581498      23480         1  2011-12-09 10:26:00   7.46               \n",
       "541880  581498      71053         1  2011-12-09 10:26:00   8.29               \n",
       "\n",
       "               country  \n",
       "157     United Kingdom  \n",
       "158     United Kingdom  \n",
       "159     United Kingdom  \n",
       "160     United Kingdom  \n",
       "161     United Kingdom  \n",
       "...                ...  \n",
       "541876  United Kingdom  \n",
       "541877  United Kingdom  \n",
       "541878  United Kingdom  \n",
       "541879  United Kingdom  \n",
       "541880  United Kingdom  \n",
       "\n",
       "[135080 rows x 7 columns]"
      ]
     },
     "execution_count": 87,
     "metadata": {},
     "output_type": "execute_result"
    }
   ],
   "source": [
    "# Show the empty rows from the DataFrame\n",
    "online_transactions[online_transactions.customer_id==\"\"]"
   ]
  },
  {
   "cell_type": "code",
   "execution_count": 89,
   "id": "ebbb3616-49ce-4f05-9df3-f035abf2ac94",
   "metadata": {},
   "outputs": [],
   "source": [
    "# Find all empty strings from online_transactions \n",
    "empty_string_sd=(stock_description=='')"
   ]
  },
  {
   "cell_type": "code",
   "execution_count": 91,
   "id": "d7f8dc48-fc03-4a19-8af3-bf86893e0692",
   "metadata": {},
   "outputs": [],
   "source": [
    "# Count empty strings in each column\n",
    "empty_string_sd_count=empty_string_sd.sum()"
   ]
  },
  {
   "cell_type": "code",
   "execution_count": 93,
   "id": "2611f6a2-a7c6-4b13-ac62-9a02c643acfb",
   "metadata": {},
   "outputs": [
    {
     "data": {
      "text/plain": [
       "stock_code     0\n",
       "description    0\n",
       "dtype: int64"
      ]
     },
     "execution_count": 93,
     "metadata": {},
     "output_type": "execute_result"
    }
   ],
   "source": [
    "# Check the result\n",
    "empty_string_sd_count"
   ]
  },
  {
   "cell_type": "markdown",
   "id": "544f61bd-75b3-47eb-a98e-97646602789e",
   "metadata": {},
   "source": [
    "## 3. Data Validity Check"
   ]
  },
  {
   "cell_type": "code",
   "execution_count": 29,
   "id": "d5b6c18c-3551-4b34-a2a8-a4af3a3f67c7",
   "metadata": {},
   "outputs": [
    {
     "data": {
      "text/html": [
       "<div>\n",
       "<style scoped>\n",
       "    .dataframe tbody tr th:only-of-type {\n",
       "        vertical-align: middle;\n",
       "    }\n",
       "\n",
       "    .dataframe tbody tr th {\n",
       "        vertical-align: top;\n",
       "    }\n",
       "\n",
       "    .dataframe thead th {\n",
       "        text-align: right;\n",
       "    }\n",
       "</style>\n",
       "<table border=\"1\" class=\"dataframe\">\n",
       "  <thead>\n",
       "    <tr style=\"text-align: right;\">\n",
       "      <th></th>\n",
       "      <th>quantity</th>\n",
       "      <th>price</th>\n",
       "    </tr>\n",
       "  </thead>\n",
       "  <tbody>\n",
       "    <tr>\n",
       "      <th>count</th>\n",
       "      <td>541910.000000</td>\n",
       "      <td>541910.000000</td>\n",
       "    </tr>\n",
       "    <tr>\n",
       "      <th>mean</th>\n",
       "      <td>9.552234</td>\n",
       "      <td>4.611138</td>\n",
       "    </tr>\n",
       "    <tr>\n",
       "      <th>std</th>\n",
       "      <td>218.080957</td>\n",
       "      <td>96.759765</td>\n",
       "    </tr>\n",
       "    <tr>\n",
       "      <th>min</th>\n",
       "      <td>-80995.000000</td>\n",
       "      <td>-11062.060000</td>\n",
       "    </tr>\n",
       "    <tr>\n",
       "      <th>25%</th>\n",
       "      <td>1.000000</td>\n",
       "      <td>1.250000</td>\n",
       "    </tr>\n",
       "    <tr>\n",
       "      <th>50%</th>\n",
       "      <td>3.000000</td>\n",
       "      <td>2.080000</td>\n",
       "    </tr>\n",
       "    <tr>\n",
       "      <th>75%</th>\n",
       "      <td>10.000000</td>\n",
       "      <td>4.130000</td>\n",
       "    </tr>\n",
       "    <tr>\n",
       "      <th>max</th>\n",
       "      <td>80995.000000</td>\n",
       "      <td>38970.000000</td>\n",
       "    </tr>\n",
       "  </tbody>\n",
       "</table>\n",
       "</div>"
      ],
      "text/plain": [
       "            quantity          price\n",
       "count  541910.000000  541910.000000\n",
       "mean        9.552234       4.611138\n",
       "std       218.080957      96.759765\n",
       "min    -80995.000000  -11062.060000\n",
       "25%         1.000000       1.250000\n",
       "50%         3.000000       2.080000\n",
       "75%        10.000000       4.130000\n",
       "max     80995.000000   38970.000000"
      ]
     },
     "execution_count": 29,
     "metadata": {},
     "output_type": "execute_result"
    }
   ],
   "source": [
    "# Check the summary of the dataframes? There should be no negative values\n",
    "online_transactions.describe()"
   ]
  },
  {
   "cell_type": "code",
   "execution_count": 98,
   "id": "25dc2168-b518-4ebb-abba-51c5d6e5dfae",
   "metadata": {
    "scrolled": true
   },
   "outputs": [
    {
     "data": {
      "text/html": [
       "<div>\n",
       "<style scoped>\n",
       "    .dataframe tbody tr th:only-of-type {\n",
       "        vertical-align: middle;\n",
       "    }\n",
       "\n",
       "    .dataframe tbody tr th {\n",
       "        vertical-align: top;\n",
       "    }\n",
       "\n",
       "    .dataframe thead th {\n",
       "        text-align: right;\n",
       "    }\n",
       "</style>\n",
       "<table border=\"1\" class=\"dataframe\">\n",
       "  <thead>\n",
       "    <tr style=\"text-align: right;\">\n",
       "      <th></th>\n",
       "      <th>invoice</th>\n",
       "      <th>stock_code</th>\n",
       "      <th>quantity</th>\n",
       "      <th>invoice_date</th>\n",
       "      <th>price</th>\n",
       "      <th>customer_id</th>\n",
       "      <th>country</th>\n",
       "    </tr>\n",
       "  </thead>\n",
       "  <tbody>\n",
       "    <tr>\n",
       "      <th>197892</th>\n",
       "      <td>A563187</td>\n",
       "      <td>B</td>\n",
       "      <td>1</td>\n",
       "      <td>2011-08-12 14:52:00</td>\n",
       "      <td>-11062.06</td>\n",
       "      <td></td>\n",
       "      <td>United Kingdom</td>\n",
       "    </tr>\n",
       "    <tr>\n",
       "      <th>205990</th>\n",
       "      <td>A563186</td>\n",
       "      <td>B</td>\n",
       "      <td>1</td>\n",
       "      <td>2011-08-12 14:51:00</td>\n",
       "      <td>-11062.06</td>\n",
       "      <td></td>\n",
       "      <td>United Kingdom</td>\n",
       "    </tr>\n",
       "  </tbody>\n",
       "</table>\n",
       "</div>"
      ],
      "text/plain": [
       "        invoice stock_code  quantity         invoice_date     price  \\\n",
       "197892  A563187          B         1  2011-08-12 14:52:00 -11062.06   \n",
       "205990  A563186          B         1  2011-08-12 14:51:00 -11062.06   \n",
       "\n",
       "       customer_id         country  \n",
       "197892              United Kingdom  \n",
       "205990              United Kingdom  "
      ]
     },
     "execution_count": 98,
     "metadata": {},
     "output_type": "execute_result"
    }
   ],
   "source": [
    "# Find transactions with negative prices\n",
    "online_transactions[online_transactions.price<0]"
   ]
  },
  {
   "cell_type": "code",
   "execution_count": 105,
   "id": "4b124123-f0b0-4721-a79f-12b74dc0b287",
   "metadata": {},
   "outputs": [
    {
     "data": {
      "text/html": [
       "<div>\n",
       "<style scoped>\n",
       "    .dataframe tbody tr th:only-of-type {\n",
       "        vertical-align: middle;\n",
       "    }\n",
       "\n",
       "    .dataframe tbody tr th {\n",
       "        vertical-align: top;\n",
       "    }\n",
       "\n",
       "    .dataframe thead th {\n",
       "        text-align: right;\n",
       "    }\n",
       "</style>\n",
       "<table border=\"1\" class=\"dataframe\">\n",
       "  <thead>\n",
       "    <tr style=\"text-align: right;\">\n",
       "      <th></th>\n",
       "      <th>invoice</th>\n",
       "      <th>stock_code</th>\n",
       "      <th>quantity</th>\n",
       "      <th>invoice_date</th>\n",
       "      <th>price</th>\n",
       "      <th>customer_id</th>\n",
       "      <th>country</th>\n",
       "    </tr>\n",
       "  </thead>\n",
       "  <tbody>\n",
       "    <tr>\n",
       "      <th>383</th>\n",
       "      <td>536546</td>\n",
       "      <td>22145</td>\n",
       "      <td>1</td>\n",
       "      <td>2010-12-01 14:33:00</td>\n",
       "      <td>0.0</td>\n",
       "      <td></td>\n",
       "      <td>United Kingdom</td>\n",
       "    </tr>\n",
       "    <tr>\n",
       "      <th>386</th>\n",
       "      <td>536554</td>\n",
       "      <td>84670</td>\n",
       "      <td>23</td>\n",
       "      <td>2010-12-01 14:35:00</td>\n",
       "      <td>0.0</td>\n",
       "      <td></td>\n",
       "      <td>United Kingdom</td>\n",
       "    </tr>\n",
       "    <tr>\n",
       "      <th>779</th>\n",
       "      <td>536765</td>\n",
       "      <td>84952C</td>\n",
       "      <td>19</td>\n",
       "      <td>2010-12-02 14:43:00</td>\n",
       "      <td>0.0</td>\n",
       "      <td></td>\n",
       "      <td>United Kingdom</td>\n",
       "    </tr>\n",
       "    <tr>\n",
       "      <th>1555</th>\n",
       "      <td>537534</td>\n",
       "      <td>22501</td>\n",
       "      <td>2</td>\n",
       "      <td>2010-12-07 11:48:00</td>\n",
       "      <td>0.0</td>\n",
       "      <td></td>\n",
       "      <td>United Kingdom</td>\n",
       "    </tr>\n",
       "    <tr>\n",
       "      <th>1556</th>\n",
       "      <td>537534</td>\n",
       "      <td>20652</td>\n",
       "      <td>1</td>\n",
       "      <td>2010-12-07 11:48:00</td>\n",
       "      <td>0.0</td>\n",
       "      <td></td>\n",
       "      <td>United Kingdom</td>\n",
       "    </tr>\n",
       "    <tr>\n",
       "      <th>...</th>\n",
       "      <td>...</td>\n",
       "      <td>...</td>\n",
       "      <td>...</td>\n",
       "      <td>...</td>\n",
       "      <td>...</td>\n",
       "      <td>...</td>\n",
       "      <td>...</td>\n",
       "    </tr>\n",
       "    <tr>\n",
       "      <th>538379</th>\n",
       "      <td>579683</td>\n",
       "      <td>21868</td>\n",
       "      <td>-28</td>\n",
       "      <td>2011-11-30 13:35:00</td>\n",
       "      <td>0.0</td>\n",
       "      <td></td>\n",
       "      <td>United Kingdom</td>\n",
       "    </tr>\n",
       "    <tr>\n",
       "      <th>538608</th>\n",
       "      <td>579733</td>\n",
       "      <td>84581</td>\n",
       "      <td>-41</td>\n",
       "      <td>2011-11-30 14:24:00</td>\n",
       "      <td>0.0</td>\n",
       "      <td></td>\n",
       "      <td>United Kingdom</td>\n",
       "    </tr>\n",
       "    <tr>\n",
       "      <th>538629</th>\n",
       "      <td>579755</td>\n",
       "      <td>84912B</td>\n",
       "      <td>-14</td>\n",
       "      <td>2011-11-30 14:54:00</td>\n",
       "      <td>0.0</td>\n",
       "      <td></td>\n",
       "      <td>United Kingdom</td>\n",
       "    </tr>\n",
       "    <tr>\n",
       "      <th>538967</th>\n",
       "      <td>580366</td>\n",
       "      <td>22923</td>\n",
       "      <td>6</td>\n",
       "      <td>2011-12-02 16:38:00</td>\n",
       "      <td>0.0</td>\n",
       "      <td></td>\n",
       "      <td>United Kingdom</td>\n",
       "    </tr>\n",
       "    <tr>\n",
       "      <th>539851</th>\n",
       "      <td>580549</td>\n",
       "      <td>84876B</td>\n",
       "      <td>66</td>\n",
       "      <td>2011-12-05 09:54:00</td>\n",
       "      <td>0.0</td>\n",
       "      <td></td>\n",
       "      <td>United Kingdom</td>\n",
       "    </tr>\n",
       "  </tbody>\n",
       "</table>\n",
       "<p>2515 rows × 7 columns</p>\n",
       "</div>"
      ],
      "text/plain": [
       "       invoice stock_code  quantity         invoice_date  price customer_id  \\\n",
       "383     536546      22145         1  2010-12-01 14:33:00    0.0               \n",
       "386     536554      84670        23  2010-12-01 14:35:00    0.0               \n",
       "779     536765     84952C        19  2010-12-02 14:43:00    0.0               \n",
       "1555    537534      22501         2  2010-12-07 11:48:00    0.0               \n",
       "1556    537534      20652         1  2010-12-07 11:48:00    0.0               \n",
       "...        ...        ...       ...                  ...    ...         ...   \n",
       "538379  579683      21868       -28  2011-11-30 13:35:00    0.0               \n",
       "538608  579733      84581       -41  2011-11-30 14:24:00    0.0               \n",
       "538629  579755     84912B       -14  2011-11-30 14:54:00    0.0               \n",
       "538967  580366      22923         6  2011-12-02 16:38:00    0.0               \n",
       "539851  580549     84876B        66  2011-12-05 09:54:00    0.0               \n",
       "\n",
       "               country  \n",
       "383     United Kingdom  \n",
       "386     United Kingdom  \n",
       "779     United Kingdom  \n",
       "1555    United Kingdom  \n",
       "1556    United Kingdom  \n",
       "...                ...  \n",
       "538379  United Kingdom  \n",
       "538608  United Kingdom  \n",
       "538629  United Kingdom  \n",
       "538967  United Kingdom  \n",
       "539851  United Kingdom  \n",
       "\n",
       "[2515 rows x 7 columns]"
      ]
     },
     "execution_count": 105,
     "metadata": {},
     "output_type": "execute_result"
    }
   ],
   "source": [
    "# Find transactions with zero prices\n",
    "online_transactions[online_transactions.price==0]"
   ]
  },
  {
   "cell_type": "markdown",
   "id": "e5ad1d9b-f03d-4362-9f47-2ace9fa3aa89",
   "metadata": {},
   "source": [
    "## 4. Data Consistency Check"
   ]
  },
  {
   "cell_type": "code",
   "execution_count": 114,
   "id": "fabad336-7e7c-4f3f-92de-c37a1a601730",
   "metadata": {},
   "outputs": [
    {
     "name": "stdout",
     "output_type": "stream",
     "text": [
      "Data type of 'stock_code' in online_transactions: object\n",
      "Data type of 'stock_code' in stock_description: object\n"
     ]
    }
   ],
   "source": [
    "# Check stock code data types\n",
    "print(\"Data type of 'stock_code' in online_transactions:\", online_transactions['stock_code'].dtype)\n",
    "print(\"Data type of 'stock_code' in stock_description:\", stock_description['stock_code'].dtype)"
   ]
  },
  {
   "cell_type": "code",
   "execution_count": 125,
   "id": "fd147767-a720-42e7-b69d-b1f8fd75eea5",
   "metadata": {
    "scrolled": true
   },
   "outputs": [],
   "source": [
    "# Define the expected format for purely alphabetic text\n",
    "pure_text_format = re.compile(r'^[A-Za-z ]+$')"
   ]
  },
  {
   "cell_type": "code",
   "execution_count": 127,
   "id": "87df1901-8d6c-434a-afa4-40a66cdbe757",
   "metadata": {},
   "outputs": [],
   "source": [
    "# Identify stock codes that are purely alphabetic text\n",
    "pure_text_stock_codes = online_transactions[online_transactions['stock_code'].apply(lambda x: bool(pure_text_format.match(x)))]"
   ]
  },
  {
   "cell_type": "code",
   "execution_count": 129,
   "id": "a3087eef-7b47-4e3a-9dbd-7037a7a6abbe",
   "metadata": {},
   "outputs": [],
   "source": [
    "# Remove duplicates\n",
    "unique_pure_text_stock_codes = pure_text_stock_codes['stock_code'].unique()"
   ]
  },
  {
   "cell_type": "code",
   "execution_count": 133,
   "id": "a6948c92-dc7f-4533-8bb4-ca2935076fc4",
   "metadata": {},
   "outputs": [
    {
     "name": "stdout",
     "output_type": "stream",
     "text": [
      "Unique purely alphabetic stock codes:\n",
      "['BANK CHARGES' 'DOT' 'POST' 'D' 'AMAZONFEE' 'M' 'S' 'm' 'DCGSSBOY'\n",
      " 'DCGSSGIRL' 'PADS' 'B' 'CRUK']\n"
     ]
    }
   ],
   "source": [
    "print(\"Unique purely alphabetic stock codes:\")\n",
    "print(unique_pure_text_stock_codes)"
   ]
  },
  {
   "cell_type": "code",
   "execution_count": 137,
   "id": "dc3e2bcc-0c93-41b0-a19c-8b82a996aafa",
   "metadata": {
    "scrolled": true
   },
   "outputs": [
    {
     "data": {
      "text/html": [
       "<div>\n",
       "<style scoped>\n",
       "    .dataframe tbody tr th:only-of-type {\n",
       "        vertical-align: middle;\n",
       "    }\n",
       "\n",
       "    .dataframe tbody tr th {\n",
       "        vertical-align: top;\n",
       "    }\n",
       "\n",
       "    .dataframe thead th {\n",
       "        text-align: right;\n",
       "    }\n",
       "</style>\n",
       "<table border=\"1\" class=\"dataframe\">\n",
       "  <thead>\n",
       "    <tr style=\"text-align: right;\">\n",
       "      <th></th>\n",
       "      <th>stock_code</th>\n",
       "      <th>description</th>\n",
       "    </tr>\n",
       "  </thead>\n",
       "  <tbody>\n",
       "    <tr>\n",
       "      <th>count</th>\n",
       "      <td>3952</td>\n",
       "      <td>3952</td>\n",
       "    </tr>\n",
       "    <tr>\n",
       "      <th>unique</th>\n",
       "      <td>3905</td>\n",
       "      <td>3785</td>\n",
       "    </tr>\n",
       "    <tr>\n",
       "      <th>top</th>\n",
       "      <td>22600</td>\n",
       "      <td>?</td>\n",
       "    </tr>\n",
       "    <tr>\n",
       "      <th>freq</th>\n",
       "      <td>2</td>\n",
       "      <td>47</td>\n",
       "    </tr>\n",
       "  </tbody>\n",
       "</table>\n",
       "</div>"
      ],
      "text/plain": [
       "       stock_code description\n",
       "count        3952        3952\n",
       "unique       3905        3785\n",
       "top         22600           ?\n",
       "freq            2          47"
      ]
     },
     "execution_count": 137,
     "metadata": {},
     "output_type": "execute_result"
    }
   ],
   "source": [
    "# Display summary statistics of the DataFrame\n",
    "stock_description.describe()"
   ]
  },
  {
   "cell_type": "code",
   "execution_count": 139,
   "id": "9ffc2d5a-d0e2-4cc3-ba25-1315b9fc81b2",
   "metadata": {},
   "outputs": [
    {
     "data": {
      "text/plain": [
       "541910"
      ]
     },
     "execution_count": 139,
     "metadata": {},
     "output_type": "execute_result"
    }
   ],
   "source": [
    "# Explore the stock_code field - do both tables contain the same number of stock_codes?\n",
    "online_transactions['stock_code'].shape[0]"
   ]
  },
  {
   "cell_type": "code",
   "execution_count": 141,
   "id": "1cf31bc4-46ef-4342-9987-ede425a1db70",
   "metadata": {},
   "outputs": [
    {
     "data": {
      "text/plain": [
       "3952"
      ]
     },
     "execution_count": 141,
     "metadata": {},
     "output_type": "execute_result"
    }
   ],
   "source": [
    "stock_description['stock_code'].shape[0]"
   ]
  },
  {
   "cell_type": "code",
   "execution_count": 143,
   "id": "6f0ae911-361f-4442-b76c-6011756e398b",
   "metadata": {},
   "outputs": [],
   "source": [
    "# It is ok if the stock_description table has more stock codes as it is possible some items have not been purchased yet, \n",
    "# But what if a customer has purchased an item and we have no information about the stock code? \n",
    "# Is that a data quality issue?"
   ]
  },
  {
   "cell_type": "code",
   "execution_count": 145,
   "id": "1b9a6cdb-d497-478d-a455-bc202b44b36b",
   "metadata": {},
   "outputs": [
    {
     "data": {
      "text/plain": [
       "3952"
      ]
     },
     "execution_count": 145,
     "metadata": {},
     "output_type": "execute_result"
    }
   ],
   "source": [
    "len(stock_description['description'])"
   ]
  },
  {
   "cell_type": "code",
   "execution_count": 149,
   "id": "82257fa0-945f-4a71-a69c-51fb00280151",
   "metadata": {},
   "outputs": [
    {
     "data": {
      "text/plain": [
       "47"
      ]
     },
     "execution_count": 149,
     "metadata": {},
     "output_type": "execute_result"
    }
   ],
   "source": [
    "# The number of dultiple descriptions from stock stock\n",
    "stock_description[stock_description['stock_code'].duplicated()].shape[0]"
   ]
  },
  {
   "cell_type": "code",
   "execution_count": 151,
   "id": "6e216f4a-bd41-47d5-8f90-64d32bc14338",
   "metadata": {},
   "outputs": [
    {
     "data": {
      "text/plain": [
       "47"
      ]
     },
     "execution_count": 151,
     "metadata": {},
     "output_type": "execute_result"
    }
   ],
   "source": [
    "# The number of stock codes have '?' in their description\n",
    "stock_description['description'].isin(['?']).sum()"
   ]
  },
  {
   "cell_type": "markdown",
   "id": "8a1ccca8-903d-4033-b142-020d3e8540f3",
   "metadata": {},
   "source": [
    "## 5. Data Timeliness Check"
   ]
  },
  {
   "cell_type": "code",
   "execution_count": 171,
   "id": "f97ea81d-5905-457d-8b65-6ab437893540",
   "metadata": {},
   "outputs": [
    {
     "data": {
      "text/plain": [
       "0"
      ]
     },
     "execution_count": 171,
     "metadata": {},
     "output_type": "execute_result"
    }
   ],
   "source": [
    "# Check for missing values\n",
    "online_transactions['invoice_date'].isnull().sum()"
   ]
  },
  {
   "cell_type": "code",
   "execution_count": 184,
   "id": "f8e27e12-30de-48f5-8f3c-fbeee0c198a9",
   "metadata": {},
   "outputs": [
    {
     "data": {
      "text/plain": [
       "'2010-12-01 08:26:00'"
      ]
     },
     "execution_count": 184,
     "metadata": {},
     "output_type": "execute_result"
    }
   ],
   "source": [
    "# Check the start of dates\n",
    "online_transactions['invoice_date'].min()"
   ]
  },
  {
   "cell_type": "code",
   "execution_count": 186,
   "id": "52b07d4c-ebb3-4aaa-a272-1e3914826a8a",
   "metadata": {},
   "outputs": [
    {
     "data": {
      "text/plain": [
       "'2011-12-09 12:50:00'"
      ]
     },
     "execution_count": 186,
     "metadata": {},
     "output_type": "execute_result"
    }
   ],
   "source": [
    "# Check the end of dates \n",
    "online_transactions['invoice_date'].max()"
   ]
  },
  {
   "cell_type": "code",
   "execution_count": 188,
   "id": "a20f0a56-7121-4899-be6a-b7472319164f",
   "metadata": {},
   "outputs": [
    {
     "data": {
      "text/plain": [
       "invoice_date\n",
       "2011-10-31 14:41:00    1114\n",
       "2011-12-08 09:28:00     749\n",
       "2011-12-09 10:03:00     731\n",
       "2011-12-05 17:24:00     721\n",
       "2011-06-29 15:58:00     705\n",
       "                       ... \n",
       "2011-07-01 15:07:00       1\n",
       "2011-07-15 09:51:00       1\n",
       "2011-07-15 09:53:00       1\n",
       "2011-02-02 11:55:00       1\n",
       "2011-12-08 13:06:00       1\n",
       "Name: count, Length: 23260, dtype: int64"
      ]
     },
     "execution_count": 188,
     "metadata": {},
     "output_type": "execute_result"
    }
   ],
   "source": [
    "# Check for frequency of updates\n",
    "online_transactions['invoice_date'].value_counts()"
   ]
  },
  {
   "cell_type": "markdown",
   "id": "04634690-f8d7-4e7c-be7d-78ab756b6f7d",
   "metadata": {},
   "source": [
    "## 6. Data Preparation"
   ]
  },
  {
   "cell_type": "code",
   "execution_count": 196,
   "id": "926cb507-ed32-4d43-b03c-e74e77adb96c",
   "metadata": {},
   "outputs": [],
   "source": [
    "# SQL query for left join with data clean requirements\n",
    "query=\"\"\"\n",
    "select ot.*,\n",
    "       sd.description\n",
    "from online_transactions ot\n",
    "left join (select *\n",
    "           from stock_description \n",
    "           where description <> '?') sd\n",
    "on ot.stock_code=sd.stock_code\n",
    "where customer_id <> ''\n",
    "and price>0\n",
    "and ot.stock_code not in ('BANK CHARGES','POST','D','M','CRUK')\n",
    "\"\"\"\n",
    "# Read the query into a DataFrame\n",
    "ot_w_desc=pd.read_sql(query,conn)"
   ]
  },
  {
   "cell_type": "code",
   "execution_count": 197,
   "id": "93779af6-5762-4b4c-80ef-2a9df8f46546",
   "metadata": {},
   "outputs": [
    {
     "data": {
      "text/plain": [
       "(405029, 8)"
      ]
     },
     "execution_count": 197,
     "metadata": {},
     "output_type": "execute_result"
    }
   ],
   "source": [
    "# Show the number of rows and columns\n",
    "ot_w_desc.shape"
   ]
  },
  {
   "cell_type": "code",
   "execution_count": 200,
   "id": "82998bca-46be-4efa-8680-4dec1fa4e9fb",
   "metadata": {},
   "outputs": [
    {
     "data": {
      "text/html": [
       "<div>\n",
       "<style scoped>\n",
       "    .dataframe tbody tr th:only-of-type {\n",
       "        vertical-align: middle;\n",
       "    }\n",
       "\n",
       "    .dataframe tbody tr th {\n",
       "        vertical-align: top;\n",
       "    }\n",
       "\n",
       "    .dataframe thead th {\n",
       "        text-align: right;\n",
       "    }\n",
       "</style>\n",
       "<table border=\"1\" class=\"dataframe\">\n",
       "  <thead>\n",
       "    <tr style=\"text-align: right;\">\n",
       "      <th></th>\n",
       "      <th>invoice</th>\n",
       "      <th>stock_code</th>\n",
       "      <th>quantity</th>\n",
       "      <th>invoice_date</th>\n",
       "      <th>price</th>\n",
       "      <th>customer_id</th>\n",
       "      <th>country</th>\n",
       "      <th>description</th>\n",
       "    </tr>\n",
       "  </thead>\n",
       "  <tbody>\n",
       "    <tr>\n",
       "      <th>0</th>\n",
       "      <td>536370</td>\n",
       "      <td>21791</td>\n",
       "      <td>24</td>\n",
       "      <td>2010-12-01 08:45:00</td>\n",
       "      <td>1.25</td>\n",
       "      <td>u12583</td>\n",
       "      <td>France</td>\n",
       "      <td>VINTAGE HEADS AND TAILS CARD GAME</td>\n",
       "    </tr>\n",
       "    <tr>\n",
       "      <th>1</th>\n",
       "      <td>536373</td>\n",
       "      <td>82494L</td>\n",
       "      <td>6</td>\n",
       "      <td>2010-12-01 09:02:00</td>\n",
       "      <td>2.55</td>\n",
       "      <td>u1785</td>\n",
       "      <td>United Kingdom</td>\n",
       "      <td>WOODEN FRAME ANTIQUE WHITE</td>\n",
       "    </tr>\n",
       "    <tr>\n",
       "      <th>2</th>\n",
       "      <td>536378</td>\n",
       "      <td>21929</td>\n",
       "      <td>10</td>\n",
       "      <td>2010-12-01 09:37:00</td>\n",
       "      <td>1.95</td>\n",
       "      <td>u14688</td>\n",
       "      <td>United Kingdom</td>\n",
       "      <td>JUMBO BAG PINK VINTAGE PAISLEY</td>\n",
       "    </tr>\n",
       "    <tr>\n",
       "      <th>3</th>\n",
       "      <td>536381</td>\n",
       "      <td>37444A</td>\n",
       "      <td>1</td>\n",
       "      <td>2010-12-01 09:41:00</td>\n",
       "      <td>2.95</td>\n",
       "      <td>u15311</td>\n",
       "      <td>United Kingdom</td>\n",
       "      <td>YELLOW BREAKFAST CUP AND SAUCER</td>\n",
       "    </tr>\n",
       "    <tr>\n",
       "      <th>4</th>\n",
       "      <td>536381</td>\n",
       "      <td>15056BL</td>\n",
       "      <td>2</td>\n",
       "      <td>2010-12-01 09:41:00</td>\n",
       "      <td>5.95</td>\n",
       "      <td>u15311</td>\n",
       "      <td>United Kingdom</td>\n",
       "      <td>EDWARDIAN PARASOL BLACK</td>\n",
       "    </tr>\n",
       "  </tbody>\n",
       "</table>\n",
       "</div>"
      ],
      "text/plain": [
       "  invoice stock_code  quantity         invoice_date  price customer_id  \\\n",
       "0  536370      21791        24  2010-12-01 08:45:00   1.25      u12583   \n",
       "1  536373     82494L         6  2010-12-01 09:02:00   2.55       u1785   \n",
       "2  536378      21929        10  2010-12-01 09:37:00   1.95      u14688   \n",
       "3  536381     37444A         1  2010-12-01 09:41:00   2.95      u15311   \n",
       "4  536381    15056BL         2  2010-12-01 09:41:00   5.95      u15311   \n",
       "\n",
       "          country                         description  \n",
       "0          France  VINTAGE HEADS AND TAILS CARD GAME   \n",
       "1  United Kingdom         WOODEN FRAME ANTIQUE WHITE   \n",
       "2  United Kingdom      JUMBO BAG PINK VINTAGE PAISLEY  \n",
       "3  United Kingdom     YELLOW BREAKFAST CUP AND SAUCER  \n",
       "4  United Kingdom             EDWARDIAN PARASOL BLACK  "
      ]
     },
     "execution_count": 200,
     "metadata": {},
     "output_type": "execute_result"
    }
   ],
   "source": [
    "# Show the result\n",
    "ot_w_desc.head()"
   ]
  },
  {
   "cell_type": "code",
   "execution_count": 202,
   "id": "93f4f7ec-60ff-4c83-aff5-a61d8f062394",
   "metadata": {},
   "outputs": [
    {
     "data": {
      "text/plain": [
       "invoice            0\n",
       "stock_code         0\n",
       "quantity           0\n",
       "invoice_date       0\n",
       "price              0\n",
       "customer_id        0\n",
       "country            0\n",
       "description     1175\n",
       "dtype: int64"
      ]
     },
     "execution_count": 202,
     "metadata": {},
     "output_type": "execute_result"
    }
   ],
   "source": [
    "# Check the null values\n",
    "ot_w_desc.isnull().sum()"
   ]
  },
  {
   "cell_type": "code",
   "execution_count": 204,
   "id": "d4dee7e4-1f76-4a6c-a205-0fe4cbd145ea",
   "metadata": {},
   "outputs": [],
   "source": [
    "# Replace missing values in the 'description' column with 'UNKNOWN'\n",
    "ot_w_desc['description'].fillna('UNKNOWN',inplace=True)"
   ]
  },
  {
   "cell_type": "code",
   "execution_count": 206,
   "id": "2066be02-e932-459f-a0f0-fa17e885a8d0",
   "metadata": {},
   "outputs": [
    {
     "data": {
      "text/plain": [
       "invoice         0\n",
       "stock_code      0\n",
       "quantity        0\n",
       "invoice_date    0\n",
       "price           0\n",
       "customer_id     0\n",
       "country         0\n",
       "description     0\n",
       "dtype: int64"
      ]
     },
     "execution_count": 206,
     "metadata": {},
     "output_type": "execute_result"
    }
   ],
   "source": [
    "# Check the result\n",
    "ot_w_desc.isnull().sum()"
   ]
  },
  {
   "cell_type": "code",
   "execution_count": 208,
   "id": "1c0b866c-4004-41b6-b06f-d52b170914ea",
   "metadata": {},
   "outputs": [
    {
     "data": {
      "text/plain": [
       "description\n",
       "CREAM HANGING HEART T-LIGHT HOLDER    2077\n",
       "REGENCY CAKESTAND 3 TIER              1904\n",
       "JUMBO BAG RED RETROSPOT               1662\n",
       "ASSORTED COLOUR BIRD ORNAMENT         1418\n",
       "PARTY BUNTING                         1415\n",
       "LUNCH BAG RED RETROSPOT               1359\n",
       "SET OF 3 CAKE TINS PANTRY DESIGN      1232\n",
       "UNKNOWN                               1175\n",
       "LUNCH BAG  BLACK SKULL.               1126\n",
       "POPCORN HOLDER                        1118\n",
       "JUMBO BAG VINTAGE DOILEY              1115\n",
       "LUNCH BAG SUKI DESIGN                 1103\n",
       "PACK OF 72 RETROSPOT CAKE CASES       1080\n",
       "LUNCH BAG VINTAGE DOILEY              1040\n",
       "BUNTING , SPOTTY                      1036\n",
       "PAPER CHAIN KIT 50'S CHRISTMAS        1029\n",
       "LUNCH BAG SPACEBOY DESIGN             1021\n",
       "LUNCH BAG CARS BLUE                   1012\n",
       "NATURAL SLATE HEART CHALKBOARD         997\n",
       "HEART OF WICKER SMALL                  996\n",
       "Name: count, dtype: int64"
      ]
     },
     "execution_count": 208,
     "metadata": {},
     "output_type": "execute_result"
    }
   ],
   "source": [
    "# Get the counts of unique values in the 'description' column and display the top 20 most frequent values\n",
    "ot_w_desc.description.value_counts().nlargest(20)"
   ]
  },
  {
   "cell_type": "code",
   "execution_count": 210,
   "id": "71e4d711-525e-4ba2-a8cb-079b9d618aae",
   "metadata": {},
   "outputs": [],
   "source": [
    "# Drop the duplicate rows of data\n",
    "ot_cleaned=ot_w_desc.drop_duplicates(keep='first')"
   ]
  },
  {
   "cell_type": "code",
   "execution_count": 211,
   "id": "4894f2be-755b-4709-b459-29b40a055e71",
   "metadata": {},
   "outputs": [
    {
     "data": {
      "text/plain": [
       "(399807, 8)"
      ]
     },
     "execution_count": 211,
     "metadata": {},
     "output_type": "execute_result"
    }
   ],
   "source": [
    "# Check the result \n",
    "ot_cleaned.shape"
   ]
  },
  {
   "cell_type": "code",
   "execution_count": 217,
   "id": "3d7ec82e-9917-4cc9-86ce-771e06b57669",
   "metadata": {},
   "outputs": [],
   "source": [
    "# Store as a .csv file to local data folder\n",
    "ot_cleaned.to_csv('data/ot_final.csv',index=False)"
   ]
  },
  {
   "cell_type": "code",
   "execution_count": 222,
   "id": "ccc0e82f-c58f-4bbe-b64b-4b8d76191b24",
   "metadata": {},
   "outputs": [],
   "source": [
    "# Read the .csv file\n",
    "check=pd.read_csv('data/ot_final.csv')"
   ]
  },
  {
   "cell_type": "code",
   "execution_count": 227,
   "id": "f3e251a7-92ba-41fe-abf2-b16a87c260a2",
   "metadata": {},
   "outputs": [
    {
     "data": {
      "text/html": [
       "<div>\n",
       "<style scoped>\n",
       "    .dataframe tbody tr th:only-of-type {\n",
       "        vertical-align: middle;\n",
       "    }\n",
       "\n",
       "    .dataframe tbody tr th {\n",
       "        vertical-align: top;\n",
       "    }\n",
       "\n",
       "    .dataframe thead th {\n",
       "        text-align: right;\n",
       "    }\n",
       "</style>\n",
       "<table border=\"1\" class=\"dataframe\">\n",
       "  <thead>\n",
       "    <tr style=\"text-align: right;\">\n",
       "      <th></th>\n",
       "      <th>invoice</th>\n",
       "      <th>stock_code</th>\n",
       "      <th>quantity</th>\n",
       "      <th>invoice_date</th>\n",
       "      <th>price</th>\n",
       "      <th>customer_id</th>\n",
       "      <th>country</th>\n",
       "      <th>description</th>\n",
       "    </tr>\n",
       "  </thead>\n",
       "  <tbody>\n",
       "    <tr>\n",
       "      <th>0</th>\n",
       "      <td>536370</td>\n",
       "      <td>21791</td>\n",
       "      <td>24</td>\n",
       "      <td>2010-12-01 08:45:00</td>\n",
       "      <td>1.25</td>\n",
       "      <td>u12583</td>\n",
       "      <td>France</td>\n",
       "      <td>VINTAGE HEADS AND TAILS CARD GAME</td>\n",
       "    </tr>\n",
       "    <tr>\n",
       "      <th>1</th>\n",
       "      <td>536373</td>\n",
       "      <td>82494L</td>\n",
       "      <td>6</td>\n",
       "      <td>2010-12-01 09:02:00</td>\n",
       "      <td>2.55</td>\n",
       "      <td>u1785</td>\n",
       "      <td>United Kingdom</td>\n",
       "      <td>WOODEN FRAME ANTIQUE WHITE</td>\n",
       "    </tr>\n",
       "    <tr>\n",
       "      <th>2</th>\n",
       "      <td>536378</td>\n",
       "      <td>21929</td>\n",
       "      <td>10</td>\n",
       "      <td>2010-12-01 09:37:00</td>\n",
       "      <td>1.95</td>\n",
       "      <td>u14688</td>\n",
       "      <td>United Kingdom</td>\n",
       "      <td>JUMBO BAG PINK VINTAGE PAISLEY</td>\n",
       "    </tr>\n",
       "    <tr>\n",
       "      <th>3</th>\n",
       "      <td>536381</td>\n",
       "      <td>37444A</td>\n",
       "      <td>1</td>\n",
       "      <td>2010-12-01 09:41:00</td>\n",
       "      <td>2.95</td>\n",
       "      <td>u15311</td>\n",
       "      <td>United Kingdom</td>\n",
       "      <td>YELLOW BREAKFAST CUP AND SAUCER</td>\n",
       "    </tr>\n",
       "    <tr>\n",
       "      <th>4</th>\n",
       "      <td>536381</td>\n",
       "      <td>15056BL</td>\n",
       "      <td>2</td>\n",
       "      <td>2010-12-01 09:41:00</td>\n",
       "      <td>5.95</td>\n",
       "      <td>u15311</td>\n",
       "      <td>United Kingdom</td>\n",
       "      <td>EDWARDIAN PARASOL BLACK</td>\n",
       "    </tr>\n",
       "  </tbody>\n",
       "</table>\n",
       "</div>"
      ],
      "text/plain": [
       "  invoice stock_code  quantity         invoice_date  price customer_id  \\\n",
       "0  536370      21791        24  2010-12-01 08:45:00   1.25      u12583   \n",
       "1  536373     82494L         6  2010-12-01 09:02:00   2.55       u1785   \n",
       "2  536378      21929        10  2010-12-01 09:37:00   1.95      u14688   \n",
       "3  536381     37444A         1  2010-12-01 09:41:00   2.95      u15311   \n",
       "4  536381    15056BL         2  2010-12-01 09:41:00   5.95      u15311   \n",
       "\n",
       "          country                         description  \n",
       "0          France  VINTAGE HEADS AND TAILS CARD GAME   \n",
       "1  United Kingdom         WOODEN FRAME ANTIQUE WHITE   \n",
       "2  United Kingdom      JUMBO BAG PINK VINTAGE PAISLEY  \n",
       "3  United Kingdom     YELLOW BREAKFAST CUP AND SAUCER  \n",
       "4  United Kingdom             EDWARDIAN PARASOL BLACK  "
      ]
     },
     "execution_count": 227,
     "metadata": {},
     "output_type": "execute_result"
    }
   ],
   "source": [
    "# Check the result\n",
    "check.head()"
   ]
  },
  {
   "cell_type": "code",
   "execution_count": null,
   "id": "19854b9e-fe88-4ce6-a38c-89a19553bd73",
   "metadata": {},
   "outputs": [],
   "source": []
  }
 ],
 "metadata": {
  "kernelspec": {
   "display_name": "Python 3 (ipykernel)",
   "language": "python",
   "name": "python3"
  },
  "language_info": {
   "codemirror_mode": {
    "name": "ipython",
    "version": 3
   },
   "file_extension": ".py",
   "mimetype": "text/x-python",
   "name": "python",
   "nbconvert_exporter": "python",
   "pygments_lexer": "ipython3",
   "version": "3.11.7"
  }
 },
 "nbformat": 4,
 "nbformat_minor": 5
}
